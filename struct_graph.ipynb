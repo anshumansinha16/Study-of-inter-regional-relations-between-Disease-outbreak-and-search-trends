{
  "nbformat": 4,
  "nbformat_minor": 0,
  "metadata": {
    "colab": {
      "provenance": []
    },
    "kernelspec": {
      "name": "python3",
      "display_name": "Python 3"
    },
    "language_info": {
      "name": "python"
    }
  },
  "cells": [
    {
      "cell_type": "code",
      "execution_count": 3,
      "metadata": {
        "id": "ql80tqPyGIhk"
      },
      "outputs": [],
      "source": [
        "import pandas as pd \n",
        "import numpy as np \n",
        "import matplotlib.pyplot as plt \n",
        "import networkx as nx\n",
        "import matplotlib.pyplot as plt\n",
        "import pandas as pd\n",
        "import numpy as np"
      ]
    },
    {
      "cell_type": "code",
      "source": [
        "g1= nx.read_edgelist('/content/facebook_combined (1).txt.gz', create_using = nx.Graph(), nodetype= int)\n",
        "print (nx.info(g1))"
      ],
      "metadata": {
        "colab": {
          "base_uri": "https://localhost:8080/"
        },
        "id": "J0JXct_mGKFk",
        "outputId": "2cf11349-8bad-4e05-a573-2dcea58cb41c"
      },
      "execution_count": 2,
      "outputs": [
        {
          "output_type": "stream",
          "name": "stdout",
          "text": [
            "Graph with 0 nodes and 0 edges\n"
          ]
        }
      ]
    },
    {
      "cell_type": "code",
      "source": [
        "# reading and creating networkx netwwork for specific county\n",
        "\n",
        "def get_network(f):\n",
        "    \n",
        "  graph_i = pd.read_csv(f,header=None)\n",
        "\n",
        "  graph_i = graph_i.values\n",
        "  graph_i\n",
        "  G = nx.Graph()\n",
        "  G.add_edges_from(graph_i)\n",
        "  num_nodes = G.number_of_nodes()\n",
        "  print(num_nodes)\n",
        "  return G\n",
        "# type(graph_i)\n",
        "\n",
        "g1 = get_network('/content/ga_contact_network_config_min_5_max_100_alpha_400_2-cm-13001.GraphEdge.txt')"
      ],
      "metadata": {
        "colab": {
          "base_uri": "https://localhost:8080/"
        },
        "id": "IIv_gshnM4Q2",
        "outputId": "546d7ea8-efb9-4365-f607-ff36b8bc9bd9"
      },
      "execution_count": 4,
      "outputs": [
        {
          "output_type": "stream",
          "name": "stdout",
          "text": [
            "16489\n"
          ]
        }
      ]
    },
    {
      "cell_type": "code",
      "source": [
        "from typing import Dict, List, Optional, Set, Tuple\n",
        "import networkx as nx\n",
        "import numpy as np\n",
        "import matplotlib.pyplot as plt\n",
        "import os\n",
        "from tqdm import tqdm\n",
        "import copy\n",
        "\n",
        "\n",
        "def simulate_one_round_SI(\n",
        "    G: nx.Graph,\n",
        "    node_compartments: Dict[str, Set[int]],\n",
        "    beta: float,\n",
        "    rng: np.random.RandomState = np.random.RandomState(0),\n",
        "):\n",
        "    if len(node_compartments[\"I\"]) == 0 or len(node_compartments[\"S\"]) == 0:\n",
        "        return node_compartments\n",
        "    s_to_i = []\n",
        "    for node in node_compartments[\"I\"]:\n",
        "        for neighbor in set(G.neighbors(node)).intersection(node_compartments[\"S\"]):\n",
        "            if rng.rand() < beta:\n",
        "                s_to_i.append(neighbor)\n",
        "    for node in set(s_to_i):\n",
        "        node_compartments[\"S\"].remove(node)\n",
        "        node_compartments[\"I\"].add(node)\n",
        "    return node_compartments\n",
        "\n",
        "\n",
        "def simulate_t_steps_SI(\n",
        "    G: nx.Graph,\n",
        "    i_frac: float,\n",
        "    beta: float,\n",
        "    num_rounds: int,\n",
        "    seed: Optional[int],\n",
        "    full_output: bool = False,\n",
        "):\n",
        "    rng = np.random.RandomState(seed) if seed is not None else np.random.RandomState()\n",
        "\n",
        "    num_nodes = G.number_of_nodes()\n",
        "    i_num = int(i_frac * num_nodes)\n",
        "    s_num = num_nodes - i_num\n",
        "    nodes_perm = rng.permutation(G.nodes)\n",
        "    node_compartments = {\n",
        "        \"S\": set(nodes_perm[:s_num].tolist()),\n",
        "        \"I\": set(nodes_perm[s_num:].tolist()),\n",
        "    }\n",
        "    s = [s_num]\n",
        "    i = [i_num]\n",
        "    if full_output:\n",
        "        s_full = [copy.deepcopy(node_compartments[\"S\"])]\n",
        "        i_full = [copy.deepcopy(node_compartments[\"I\"])]\n",
        "\n",
        "    for _ in range(num_rounds):\n",
        "        node_compartments = simulate_one_round_SI(G, node_compartments, beta, rng)\n",
        "        if full_output:\n",
        "            s_full.append(copy.deepcopy(node_compartments[\"S\"]))\n",
        "            i_full.append(copy.deepcopy(node_compartments[\"I\"]))\n",
        "        s.append(len(node_compartments[\"S\"])) # How many are in I each time-step \n",
        "        i.append(len(node_compartments[\"I\"])) # There are 201 time-steps\n",
        "    ans = {\"S\": np.array(s), \"I\": np.array(i)}\n",
        "    if full_output:\n",
        "        return ans, s_full, i_full\n",
        "    return ans\n"
      ],
      "metadata": {
        "id": "Ryeaxhw9GP-7"
      },
      "execution_count": 5,
      "outputs": []
    },
    {
      "cell_type": "code",
      "source": [
        "#def simulate_t_steps_SI( G: nx.Graph, i_frac: float, beta: float, num_rounds: int, seed: Optional[int],full_output: bool = False,)\n",
        "\n",
        "i_frac = 4/4039 # Initial number of infected nodes!\n",
        "beta = 0.005 # beta value \n",
        "num_rounds = 100 # Number of time-steps\n",
        "full_output = False\n",
        "num_iter = 1 # added parameter to the existing code\n",
        "y_sum =[]\n",
        "i_daily_s =[]\n",
        "\n",
        "for j in range(num_iter):\n",
        "  l = simulate_t_steps_SI(g1,i_frac,beta,num_rounds,full_output)\n",
        "  y = (l['I'])/len(g1.nodes) # after 100 time-steps we have an array of Infected nodes\n",
        "  yS = (l['S'])/len(g1.nodes)\n",
        "  i_daily = []\n",
        "  i_0 = 0\n",
        "  for i in (y):\n",
        "    i_daily.append(i - i_0)\n",
        "    i_0 = i\n",
        "  i_daily = np.array(i_daily)\n",
        "\n",
        "  y_sum.append(y)\n",
        "  i_daily_s.append(i_daily)\n"
      ],
      "metadata": {
        "id": "CVXWFJsnGQld"
      },
      "execution_count": 7,
      "outputs": []
    },
    {
      "cell_type": "code",
      "source": [
        "# averaging btw the iterations \n",
        "\n",
        "zee = np.mean(y_sum, axis =0)\n",
        "zee_d = np.mean(i_daily_s, axis =0)\n",
        "lst = list(range(len(zee_d)))"
      ],
      "metadata": {
        "id": "3U2XhAbONDYZ"
      },
      "execution_count": 8,
      "outputs": []
    },
    {
      "cell_type": "code",
      "source": [
        "# plotting\n",
        "plt.title(\"d_i\")\n",
        "plt.xlabel(\"X axis\")\n",
        "plt.ylabel(\"Y axis\")\n",
        "plt.plot(lst, zee, color =\"green\")\n",
        "plt.show()"
      ],
      "metadata": {
        "colab": {
          "base_uri": "https://localhost:8080/",
          "height": 295
        },
        "id": "6GTFHvRPNJX_",
        "outputId": "60bf9fdf-dbf4-4e24-e75d-1a8058a4fd5f"
      },
      "execution_count": 9,
      "outputs": [
        {
          "output_type": "display_data",
          "data": {
            "text/plain": [
              "<Figure size 432x288 with 1 Axes>"
            ],
            "image/png": "[encoded data removed]"
          },
          "metadata": {
            "needs_background": "light"
          }
        }
      ]
    },
    {
      "cell_type": "code",
      "source": [],
      "metadata": {
        "id": "UONUOADuakU4"
      },
      "execution_count": null,
      "outputs": []
    }
  ]
}