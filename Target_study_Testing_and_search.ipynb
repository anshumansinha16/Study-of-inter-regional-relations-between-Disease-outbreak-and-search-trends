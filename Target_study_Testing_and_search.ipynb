{
  "nbformat": 4,
  "nbformat_minor": 0,
  "metadata": {
    "colab": {
      "provenance": []
    },
    "kernelspec": {
      "name": "python3",
      "display_name": "Python 3"
    },
    "language_info": {
      "name": "python"
    }
  },
  "cells": [
    {
      "cell_type": "code",
      "execution_count": 1,
      "metadata": {
        "id": "VF0Hc3TvQ5Wf"
      },
      "outputs": [],
      "source": [
        "%matplotlib inline\n",
        "\n",
        "import pandas as pd # for using pandas daraframe\n",
        "import numpy as np # for som math operations\n",
        "from sklearn.preprocessing import StandardScaler # for standardizing the Data\n",
        "\n",
        "import matplotlib.pyplot as plt # for plotting"
      ]
    },
    {
      "cell_type": "code",
      "source": [],
      "metadata": {
        "id": "ZEtCNsAMXYsV"
      },
      "execution_count": null,
      "outputs": []
    },
    {
      "cell_type": "markdown",
      "source": [
        "**Testing data**"
      ],
      "metadata": {
        "id": "_hMDEntXXWom"
      }
    },
    {
      "cell_type": "code",
      "source": [
        "data2 = pd.read_csv('/content/COVID-19_Diagnostic_Laboratory_Testing__PCR_Testing__Time_Series.csv')"
      ],
      "metadata": {
        "id": "86b1mOICRjU3"
      },
      "execution_count": 110,
      "outputs": []
    },
    {
      "cell_type": "code",
      "source": [
        "data2['date'] = pd.to_datetime(data2['date'])\n",
        "df2 = data2\n",
        "start_date = '2022-1-1'\n",
        "end_date = '2022-10-1'\n",
        "\n",
        "mask = (df2['date'] >= start_date) & (df2['date'] <= end_date)\n",
        "\n",
        "df2 = df2.loc[mask]"
      ],
      "metadata": {
        "id": "LtXoPp3ERqpU"
      },
      "execution_count": 111,
      "outputs": []
    },
    {
      "cell_type": "code",
      "source": [
        "state_name = 'Georgia'\n",
        "mask = (df2['state_name'] == state_name)\n",
        "df2 = df2.loc[mask]"
      ],
      "metadata": {
        "id": "U5sbE6WfSShh"
      },
      "execution_count": 112,
      "outputs": []
    },
    {
      "cell_type": "code",
      "source": [
        "overall_outcome = 'Negative'\n",
        "mask = (df2['overall_outcome'] == overall_outcome)\n",
        "df2 = df2.loc[mask]"
      ],
      "metadata": {
        "id": "BduzAuwAStLt"
      },
      "execution_count": 113,
      "outputs": []
    },
    {
      "cell_type": "code",
      "source": [
        "dfn1 = pd.DataFrame()\n",
        "l=[]\n",
        "\n",
        "for count, column in enumerate(df2):    \n",
        "    # Select column contents by column\n",
        "    # name using [] operator\n",
        "    if((count>5) and (count<7)):\n",
        "      columnSeriesObj = df2[column]\n",
        "      columnSeriesObj[np.isnan(columnSeriesObj)] = 0\n",
        "      dfn1.insert(count-6, column, columnSeriesObj.tolist(), True)\n",
        "      l.append(columnSeriesObj.tolist())\n",
        "      #print('Column Name : ', column)\n",
        "      #print('Column Contents : ', columnSeriesObj.values)"
      ],
      "metadata": {
        "id": "DUcQgxzYWeRT"
      },
      "execution_count": 114,
      "outputs": []
    },
    {
      "cell_type": "code",
      "source": [
        "dfn1.head()"
      ],
      "metadata": {
        "colab": {
          "base_uri": "https://localhost:8080/",
          "height": 206
        },
        "id": "piSBRK6_XOAF",
        "outputId": "9d5d5ce0-0f47-4b82-eaa2-389f15f4f67d"
      },
      "execution_count": 115,
      "outputs": [
        {
          "output_type": "execute_result",
          "data": {
            "text/plain": [
              "   new_results_reported\n",
              "0                 11118\n",
              "1                 11968\n",
              "2                 18269\n",
              "3                 36279\n",
              "4                 51392"
            ],
            "text/html": [
              "\n",
              "  <div id=\"df-ec2d14f2-cedc-4da8-ac33-2b3037e993a2\">\n",
              "    <div class=\"colab-df-container\">\n",
              "      <div>\n",
              "<style scoped>\n",
              "    .dataframe tbody tr th:only-of-type {\n",
              "        vertical-align: middle;\n",
              "    }\n",
              "\n",
              "    .dataframe tbody tr th {\n",
              "        vertical-align: top;\n",
              "    }\n",
              "\n",
              "    .dataframe thead th {\n",
              "        text-align: right;\n",
              "    }\n",
              "</style>\n",
              "<table border=\"1\" class=\"dataframe\">\n",
              "  <thead>\n",
              "    <tr style=\"text-align: right;\">\n",
              "      <th></th>\n",
              "      <th>new_results_reported</th>\n",
              "    </tr>\n",
              "  </thead>\n",
              "  <tbody>\n",
              "    <tr>\n",
              "      <th>0</th>\n",
              "      <td>11118</td>\n",
              "    </tr>\n",
              "    <tr>\n",
              "      <th>1</th>\n",
              "      <td>11968</td>\n",
              "    </tr>\n",
              "    <tr>\n",
              "      <th>2</th>\n",
              "      <td>18269</td>\n",
              "    </tr>\n",
              "    <tr>\n",
              "      <th>3</th>\n",
              "      <td>36279</td>\n",
              "    </tr>\n",
              "    <tr>\n",
              "      <th>4</th>\n",
              "      <td>51392</td>\n",
              "    </tr>\n",
              "  </tbody>\n",
              "</table>\n",
              "</div>\n",
              "      <button class=\"colab-df-convert\" onclick=\"convertToInteractive('df-ec2d14f2-cedc-4da8-ac33-2b3037e993a2')\"\n",
              "              title=\"Convert this dataframe to an interactive table.\"\n",
              "              style=\"display:none;\">\n",
              "        \n",
              "  <svg xmlns=\"http://www.w3.org/2000/svg\" height=\"24px\"viewBox=\"0 0 24 24\"\n",
              "       width=\"24px\">\n",
              "    <path d=\"M0 0h24v24H0V0z\" fill=\"none\"/>\n",
              "    <path d=\"M18.56 5.44l.94 2.06.94-2.06 2.06-.94-2.06-.94-.94-2.06-.94 2.06-2.06.94zm-11 1L8.5 8.5l.94-2.06 2.06-.94-2.06-.94L8.5 2.5l-.94 2.06-2.06.94zm10 10l.94 2.06.94-2.06 2.06-.94-2.06-.94-.94-2.06-.94 2.06-2.06.94z\"/><path d=\"M17.41 7.96l-1.37-1.37c-.4-.4-.92-.59-1.43-.59-.52 0-1.04.2-1.43.59L10.3 9.45l-7.72 7.72c-.78.78-.78 2.05 0 2.83L4 21.41c.39.39.9.59 1.41.59.51 0 1.02-.2 1.41-.59l7.78-7.78 2.81-2.81c.8-.78.8-2.07 0-2.86zM5.41 20L4 18.59l7.72-7.72 1.47 1.35L5.41 20z\"/>\n",
              "  </svg>\n",
              "      </button>\n",
              "      \n",
              "  <style>\n",
              "    .colab-df-container {\n",
              "      display:flex;\n",
              "      flex-wrap:wrap;\n",
              "      gap: 12px;\n",
              "    }\n",
              "\n",
              "    .colab-df-convert {\n",
              "      background-color: #E8F0FE;\n",
              "      border: none;\n",
              "      border-radius: 50%;\n",
              "      cursor: pointer;\n",
              "      display: none;\n",
              "      fill: #1967D2;\n",
              "      height: 32px;\n",
              "      padding: 0 0 0 0;\n",
              "      width: 32px;\n",
              "    }\n",
              "\n",
              "    .colab-df-convert:hover {\n",
              "      background-color: #E2EBFA;\n",
              "      box-shadow: 0px 1px 2px rgba(60, 64, 67, 0.3), 0px 1px 3px 1px rgba(60, 64, 67, 0.15);\n",
              "      fill: #174EA6;\n",
              "    }\n",
              "\n",
              "    [theme=dark] .colab-df-convert {\n",
              "      background-color: #3B4455;\n",
              "      fill: #D2E3FC;\n",
              "    }\n",
              "\n",
              "    [theme=dark] .colab-df-convert:hover {\n",
              "      background-color: #434B5C;\n",
              "      box-shadow: 0px 1px 3px 1px rgba(0, 0, 0, 0.15);\n",
              "      filter: drop-shadow(0px 1px 2px rgba(0, 0, 0, 0.3));\n",
              "      fill: #FFFFFF;\n",
              "    }\n",
              "  </style>\n",
              "\n",
              "      <script>\n",
              "        const buttonEl =\n",
              "          document.querySelector('#df-ec2d14f2-cedc-4da8-ac33-2b3037e993a2 button.colab-df-convert');\n",
              "        buttonEl.style.display =\n",
              "          google.colab.kernel.accessAllowed ? 'block' : 'none';\n",
              "\n",
              "        async function convertToInteractive(key) {\n",
              "          const element = document.querySelector('#df-ec2d14f2-cedc-4da8-ac33-2b3037e993a2');\n",
              "          const dataTable =\n",
              "            await google.colab.kernel.invokeFunction('convertToInteractive',\n",
              "                                                     [key], {});\n",
              "          if (!dataTable) return;\n",
              "\n",
              "          const docLinkHtml = 'Like what you see? Visit the ' +\n",
              "            '<a target=\"_blank\" href=https://colab.research.google.com/notebooks/data_table.ipynb>data table notebook</a>'\n",
              "            + ' to learn more about interactive tables.';\n",
              "          element.innerHTML = '';\n",
              "          dataTable['output_type'] = 'display_data';\n",
              "          await google.colab.output.renderOutput(dataTable, element);\n",
              "          const docLink = document.createElement('div');\n",
              "          docLink.innerHTML = docLinkHtml;\n",
              "          element.appendChild(docLink);\n",
              "        }\n",
              "      </script>\n",
              "    </div>\n",
              "  </div>\n",
              "  "
            ]
          },
          "metadata": {},
          "execution_count": 115
        }
      ]
    },
    {
      "cell_type": "code",
      "source": [
        "X1 = dfn1.values # getting all values as a matrix of dataframe \n",
        "sc = StandardScaler() # creating a StandardScaler object\n",
        "X_std1 = sc.fit_transform(X1) # standardizing the data"
      ],
      "metadata": {
        "id": "TPXB61bKWXhI"
      },
      "execution_count": 116,
      "outputs": []
    },
    {
      "cell_type": "markdown",
      "source": [
        "**df2 = 274 x 9**"
      ],
      "metadata": {
        "id": "u24LAuRrTRsL"
      }
    },
    {
      "cell_type": "markdown",
      "source": [
        "**Symptoms**"
      ],
      "metadata": {
        "id": "ehNNDKf4UZCk"
      }
    },
    {
      "cell_type": "code",
      "source": [
        "dfu = pd.read_csv('/content/2022_sub_region_1_daily_2022_US_Georgia_daily_symptoms_dataset.csv', index_col = 0)\n",
        "dfu['date'] = pd.to_datetime(dfu['date'])\n",
        "\n",
        "df_first = dfu.head(n=274)"
      ],
      "metadata": {
        "id": "T6iZKnPYTi6Q"
      },
      "execution_count": 117,
      "outputs": []
    },
    {
      "cell_type": "code",
      "source": [
        "dfn = pd.DataFrame()\n",
        "l=[]\n",
        "\n",
        "for count, column in enumerate(df_first):    \n",
        "    # Select column contents by column\n",
        "    # name using [] operator\n",
        "    if(count>8):\n",
        "      columnSeriesObj = df_first[column]\n",
        "      columnSeriesObj[np.isnan(columnSeriesObj)] = 0\n",
        "      dfn.insert(count-9, column, columnSeriesObj.tolist(), True)\n",
        "      l.append(columnSeriesObj.tolist())\n",
        "      #print('Column Name : ', column)\n",
        "      #print('Column Contents : ', columnSeriesObj.values)"
      ],
      "metadata": {
        "colab": {
          "base_uri": "https://localhost:8080/"
        },
        "id": "IB9DstkYUSWF",
        "outputId": "d229a793-328f-4891-e4b0-b9efbaf110c5"
      },
      "execution_count": 118,
      "outputs": [
        {
          "output_type": "stream",
          "name": "stderr",
          "text": [
            "/usr/local/lib/python3.7/dist-packages/ipykernel_launcher.py:9: SettingWithCopyWarning: \n",
            "A value is trying to be set on a copy of a slice from a DataFrame\n",
            "\n",
            "See the caveats in the documentation: https://pandas.pydata.org/pandas-docs/stable/user_guide/indexing.html#returning-a-view-versus-a-copy\n",
            "  if __name__ == '__main__':\n",
            "/usr/local/lib/python3.7/dist-packages/pandas/core/generic.py:8870: SettingWithCopyWarning: \n",
            "A value is trying to be set on a copy of a slice from a DataFrame\n",
            "\n",
            "See the caveats in the documentation: https://pandas.pydata.org/pandas-docs/stable/user_guide/indexing.html#returning-a-view-versus-a-copy\n",
            "  return self._update_inplace(result)\n",
            "/usr/local/lib/python3.7/dist-packages/IPython/core/interactiveshell.py:3249: PerformanceWarning: DataFrame is highly fragmented.  This is usually the result of calling `frame.insert` many times, which has poor performance.  Consider joining all columns at once using pd.concat(axis=1) instead.  To get a de-fragmented frame, use `newframe = frame.copy()`\n",
            "  if (await self.run_code(code, result,  async_=asy)):\n"
          ]
        }
      ]
    },
    {
      "cell_type": "code",
      "source": [
        "X = dfn.values # getting all values as a matrix of dataframe \n",
        "sc = StandardScaler() # creating a StandardScaler object\n",
        "X_std = sc.fit_transform(X) # standardizing the data"
      ],
      "metadata": {
        "id": "LmunXU8AUU43"
      },
      "execution_count": 119,
      "outputs": []
    },
    {
      "cell_type": "code",
      "source": [
        "rng: np.random.RandomState = np.random.RandomState(0)\n",
        "rng.randn(4,1) "
      ],
      "metadata": {
        "colab": {
          "base_uri": "https://localhost:8080/"
        },
        "id": "Tj6R6BbwXqyQ",
        "outputId": "d418f4d7-2a74-4d18-a7a7-adf3ace86818"
      },
      "execution_count": 120,
      "outputs": [
        {
          "output_type": "execute_result",
          "data": {
            "text/plain": [
              "array([[1.76405235],\n",
              "       [0.40015721],\n",
              "       [0.97873798],\n",
              "       [2.2408932 ]])"
            ]
          },
          "metadata": {},
          "execution_count": 120
        }
      ]
    },
    {
      "cell_type": "code",
      "source": [
        "import numpy as np\n",
        "    \n",
        "class Bit_map:\n",
        "\n",
        "    def __init__(self, reduced_size, inp_size, rng: np.random.RandomState = np.random.RandomState(0)):\n",
        "        self.reduced_size = reduced_size\n",
        "        self.inp_size = inp_size\n",
        "\n",
        "        # take random normal vectors for projection\n",
        "\n",
        "        self.normals = rng.randn(self.reduced_size, inp_size) \n",
        "        \n",
        "    def generate(self, inp_vector):\n",
        "\n",
        "        # self.normals.T = create delta normal vectors\n",
        "        # Take dot product of input vector with each of these normal vectors.\n",
        "        # If vector and normal on same side, then Binary = 1 else 0\n",
        "\n",
        "        binary = (np.dot(inp_vector, self.normals.T) > 0).astype('int')\n",
        "        return binary #''.join(bools.astype('str'))\n",
        "       \n",
        "ht = Bit_map(reduced_size=20, inp_size=274)"
      ],
      "metadata": {
        "id": "_pKH4SCcXrA8"
      },
      "execution_count": 126,
      "outputs": []
    },
    {
      "cell_type": "code",
      "source": [],
      "metadata": {
        "id": "JYOo050ZXtsi"
      },
      "execution_count": 126,
      "outputs": []
    },
    {
      "cell_type": "code",
      "source": [
        "sp2 = ht.generate(X_std1[:,0])\n",
        "sp2 # CDC Covid data"
      ],
      "metadata": {
        "colab": {
          "base_uri": "https://localhost:8080/"
        },
        "id": "QhIYHauIX9_f",
        "outputId": "50c21537-688c-4761-9a48-a0d056246c73"
      },
      "execution_count": 127,
      "outputs": [
        {
          "output_type": "execute_result",
          "data": {
            "text/plain": [
              "array([0, 1, 0, 1, 1, 0, 1, 0, 0, 0, 1, 1, 0, 0, 0, 0, 1, 0, 1, 1])"
            ]
          },
          "metadata": {},
          "execution_count": 127
        }
      ]
    },
    {
      "cell_type": "code",
      "source": [
        "score = []\n",
        "h_l =[]\n",
        "\n",
        "for i in range(420):\n",
        "  h_p=[]\n",
        "  h_p.append(ht.generate(X_std[:,i]))\n",
        "  h_l.append(h_p)\n",
        "  \n",
        "for i in range(420):\n",
        "    sp1 = h_l[i] # Symptom data\n",
        "    a =[i for i, j in zip(sp1[0], sp2) if i == j];\n",
        "    score.append(len(a)) # How many bits are matching!"
      ],
      "metadata": {
        "id": "sp87FPraX_au"
      },
      "execution_count": 128,
      "outputs": []
    },
    {
      "cell_type": "code",
      "source": [
        "top_k = sorted(range(len(score)), key=lambda i: score[i], reverse=True)[:15]\n",
        "top_k"
      ],
      "metadata": {
        "colab": {
          "base_uri": "https://localhost:8080/"
        },
        "id": "JHj98GybYQm-",
        "outputId": "9b3b0893-605c-4a28-b12d-2ae4a2fc7c77"
      },
      "execution_count": 129,
      "outputs": [
        {
          "output_type": "execute_result",
          "data": {
            "text/plain": [
              "[340, 394, 14, 114, 168, 196, 205, 264, 271, 294, 306, 349, 364, 368, 412]"
            ]
          },
          "metadata": {},
          "execution_count": 129
        }
      ]
    },
    {
      "cell_type": "code",
      "source": [
        "for i,c in enumerate(top_k): #for ele in enumerate(l1):\n",
        "  print(i,dfn.columns[c],score[c])"
      ],
      "metadata": {
        "colab": {
          "base_uri": "https://localhost:8080/"
        },
        "id": "j1yoPXfdYSy6",
        "outputId": "75e236d1-815c-45db-dbc2-7af9804802c7"
      },
      "execution_count": 130,
      "outputs": [
        {
          "output_type": "stream",
          "name": "stdout",
          "text": [
            "0 symptom:Scoliosis 16\n",
            "1 symptom:Urethritis 16\n",
            "2 symptom:Angina pectoris 15\n",
            "3 symptom:Dysphagia 15\n",
            "4 symptom:Heart murmur 15\n",
            "5 symptom:Hyperthyroidism 15\n",
            "6 symptom:Hypomania 15\n",
            "7 symptom:Nasal polyp 15\n",
            "8 symptom:Neutropenia 15\n",
            "9 symptom:Pelvic inflammatory disease 15\n",
            "10 symptom:Pleurisy 15\n",
            "11 symptom:Shyness 15\n",
            "12 symptom:Strabismus 15\n",
            "13 symptom:Stuttering 15\n",
            "14 symptom:Weakness 15\n"
          ]
        }
      ]
    },
    {
      "cell_type": "markdown",
      "source": [
        "**Symptoms searches which are causing people to test themselves, but they are not covid positive.**"
      ],
      "metadata": {
        "id": "XVlSJG5RZdRE"
      }
    },
    {
      "cell_type": "markdown",
      "source": [
        "\n",
        "\n",
        "\n",
        "1.   Dysphagia : Swallowing difficulties\n",
        "2.   Hypomania : Over-excitment\n",
        "3.   Heart murmur\n",
        "4.   Nasal polyp\n",
        "\n",
        "\n",
        "\n"
      ],
      "metadata": {
        "id": "yiDYjlE1hCw0"
      }
    },
    {
      "cell_type": "code",
      "source": [],
      "metadata": {
        "id": "qUyKMxmSYbMc"
      },
      "execution_count": null,
      "outputs": []
    },
    {
      "cell_type": "markdown",
      "source": [
        "**Searched and were found positive**"
      ],
      "metadata": {
        "id": "nCdnoFmOYmwf"
      }
    },
    {
      "cell_type": "code",
      "source": [
        "data2 = pd.read_csv('/content/COVID-19_Diagnostic_Laboratory_Testing__PCR_Testing__Time_Series.csv')\n",
        "\n",
        "data2['date'] = pd.to_datetime(data2['date'])\n",
        "df2 = data2\n",
        "start_date = '2022-1-1'\n",
        "end_date = '2022-10-1'\n",
        "\n",
        "mask = (df2['date'] >= start_date) & (df2['date'] <= end_date)\n",
        "\n",
        "df2 = df2.loc[mask]\n",
        "\n",
        "X = dfn.values # getting all values as a matrix of dataframe \n",
        "sc = StandardScaler() # creating a StandardScaler object\n",
        "X_std = sc.fit_transform(X) # standardizing the data"
      ],
      "metadata": {
        "id": "lf5ui8umYuSu"
      },
      "execution_count": 102,
      "outputs": []
    },
    {
      "cell_type": "code",
      "source": [
        "state_name = 'Georgia'\n",
        "mask = (df2['state_name'] == state_name)\n",
        "df2 = df2.loc[mask]"
      ],
      "metadata": {
        "id": "3uAVEOCFY3s5"
      },
      "execution_count": 103,
      "outputs": []
    },
    {
      "cell_type": "code",
      "source": [
        "overall_outcome = 'Positive'\n",
        "mask = (df2['overall_outcome'] == overall_outcome)\n",
        "df2 = df2.loc[mask]"
      ],
      "metadata": {
        "id": "oGe312bFY6Uy"
      },
      "execution_count": 104,
      "outputs": []
    },
    {
      "cell_type": "code",
      "source": [
        "dfn1 = pd.DataFrame()\n",
        "l=[]\n",
        "\n",
        "for count, column in enumerate(df2):    \n",
        "    # Select column contents by column\n",
        "    # name using [] operator\n",
        "    if((count>5) and (count<7)):\n",
        "      columnSeriesObj = df2[column]\n",
        "      columnSeriesObj[np.isnan(columnSeriesObj)] = 0\n",
        "      dfn1.insert(count-6, column, columnSeriesObj.tolist(), True)\n",
        "      l.append(columnSeriesObj.tolist())\n",
        "      #print('Column Name : ', column)\n",
        "      #print('Column Contents : ', columnSeriesObj.values)\n",
        "\n",
        "X1 = dfn1.values # getting all values as a matrix of dataframe \n",
        "sc = StandardScaler() # creating a StandardScaler object\n",
        "X_std1 = sc.fit_transform(X1) # standardizing the data"
      ],
      "metadata": {
        "id": "6-WIbSZ7Y8HF"
      },
      "execution_count": 105,
      "outputs": []
    },
    {
      "cell_type": "code",
      "source": [
        "sp2 = ht.generate(X_std1[:,0])\n",
        "sp2 # CDC Covid data"
      ],
      "metadata": {
        "colab": {
          "base_uri": "https://localhost:8080/"
        },
        "id": "WuNdZmYsZCoV",
        "outputId": "f3cea4df-ea80-457d-b8bc-915d58edeb98"
      },
      "execution_count": 106,
      "outputs": [
        {
          "output_type": "execute_result",
          "data": {
            "text/plain": [
              "array([1, 1, 1, 1, 1, 1, 0, 1, 1, 0, 1, 1, 0, 0, 1, 0, 0, 0, 1, 1, 1, 1,\n",
              "       1, 0, 1, 1, 0, 0, 0, 1, 1, 1, 0, 0, 0, 1, 0, 1, 1, 0])"
            ]
          },
          "metadata": {},
          "execution_count": 106
        }
      ]
    },
    {
      "cell_type": "code",
      "source": [
        "score = []\n",
        "h_l =[]\n",
        "\n",
        "for i in range(420):\n",
        "  h_p=[]\n",
        "  h_p.append(ht.generate(X_std[:,i]))\n",
        "  h_l.append(h_p)\n",
        "  \n",
        "for i in range(420):\n",
        "    sp1 = h_l[i] # Symptom data\n",
        "    a =[i for i, j in zip(sp1[0], sp2) if i == j];\n",
        "    score.append(len(a)) # How many bits are matching!"
      ],
      "metadata": {
        "id": "SX0b_PibZF_I"
      },
      "execution_count": 107,
      "outputs": []
    },
    {
      "cell_type": "code",
      "source": [
        "top_k = sorted(range(len(score)), key=lambda i: score[i], reverse=True)[:15]\n",
        "top_k"
      ],
      "metadata": {
        "colab": {
          "base_uri": "https://localhost:8080/"
        },
        "id": "x0nfTxhhZIAJ",
        "outputId": "64cd5eef-79d9-41d8-c1e4-f1747695b0e9"
      },
      "execution_count": 108,
      "outputs": [
        {
          "output_type": "execute_result",
          "data": {
            "text/plain": [
              "[82, 90, 238, 2, 4, 17, 73, 209, 301, 380, 263, 111, 139, 314, 362]"
            ]
          },
          "metadata": {},
          "execution_count": 108
        }
      ]
    },
    {
      "cell_type": "code",
      "source": [
        "for i,c in enumerate(top_k): #for ele in enumerate(l1):\n",
        "  print(i,dfn.columns[c],score[c])"
      ],
      "metadata": {
        "colab": {
          "base_uri": "https://localhost:8080/"
        },
        "id": "0rnGROvbZKzH",
        "outputId": "6c7e12b6-2dc4-4ae8-c268-4ef573523d7f"
      },
      "execution_count": 109,
      "outputs": [
        {
          "output_type": "stream",
          "name": "stdout",
          "text": [
            "0 symptom:Common cold 36\n",
            "1 symptom:Cough 36\n",
            "2 symptom:Low-grade fever 36\n",
            "3 symptom:Acute bronchitis 35\n",
            "4 symptom:Ageusia 35\n",
            "5 symptom:Anosmia 35\n",
            "6 symptom:Chills 35\n",
            "7 symptom:Hypoxemia 35\n",
            "8 symptom:Phlegm 35\n",
            "9 symptom:Throat irritation 35\n",
            "10 symptom:Nasal congestion 34\n",
            "11 symptom:Dysgeusia 33\n",
            "12 symptom:Fever 33\n",
            "13 symptom:Post-nasal drip 33\n",
            "14 symptom:Sputum 33\n"
          ]
        }
      ]
    },
    {
      "cell_type": "code",
      "source": [],
      "metadata": {
        "id": "NfSUPoH8ZMZr"
      },
      "execution_count": null,
      "outputs": []
    }
  ]
}