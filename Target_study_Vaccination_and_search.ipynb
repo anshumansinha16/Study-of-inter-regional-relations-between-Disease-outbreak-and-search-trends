{
  "nbformat": 4,
  "nbformat_minor": 0,
  "metadata": {
    "colab": {
      "provenance": []
    },
    "kernelspec": {
      "name": "python3",
      "display_name": "Python 3"
    },
    "language_info": {
      "name": "python"
    }
  },
  "cells": [
    {
      "cell_type": "code",
      "execution_count": 1,
      "metadata": {
        "id": "VWEorGG-jm5o"
      },
      "outputs": [],
      "source": [
        "%matplotlib inline\n",
        "\n",
        "import pandas as pd # for using pandas daraframe\n",
        "import numpy as np # for som math operations\n",
        "from sklearn.preprocessing import StandardScaler # for standardizing the Data\n",
        "\n",
        "import matplotlib.pyplot as plt # for plotting"
      ]
    },
    {
      "cell_type": "code",
      "source": [
        "data2 = pd.read_csv('/content/us_state_vaccinations.csv')"
      ],
      "metadata": {
        "id": "QpDX7649l8LQ"
      },
      "execution_count": 2,
      "outputs": []
    },
    {
      "cell_type": "code",
      "source": [
        "data2['date'] = pd.to_datetime(data2['date'])\n",
        "df2 = data2\n",
        "start_date = '2022-1-1'\n",
        "end_date = '2022-10-1'\n",
        "\n",
        "mask = (df2['date'] >= start_date) & (df2['date'] <= end_date)\n",
        "\n",
        "df2 = df2.loc[mask]"
      ],
      "metadata": {
        "id": "uDVbnnzql8kz"
      },
      "execution_count": 4,
      "outputs": []
    },
    {
      "cell_type": "code",
      "source": [
        "df2.head()"
      ],
      "metadata": {
        "colab": {
          "base_uri": "https://localhost:8080/",
          "height": 357
        },
        "id": "DhF8wMI9muNu",
        "outputId": "d9456a6e-3e6e-4b45-f583-883728f4fd5a"
      },
      "execution_count": 7,
      "outputs": [
        {
          "output_type": "execute_result",
          "data": {
            "text/plain": [
              "           date location  total_vaccinations  total_distributed  \\\n",
              "9888 2022-01-01  Georgia                 NaN                NaN   \n",
              "9889 2022-01-02  Georgia                 NaN                NaN   \n",
              "9890 2022-01-03  Georgia                 NaN                NaN   \n",
              "9891 2022-01-04  Georgia          13419260.0         18270005.0   \n",
              "9892 2022-01-05  Georgia          13487907.0         18382505.0   \n",
              "\n",
              "      people_vaccinated  people_fully_vaccinated_per_hundred  \\\n",
              "9888                NaN                                  NaN   \n",
              "9889                NaN                                  NaN   \n",
              "9890                NaN                                  NaN   \n",
              "9891          6527303.0                                51.23   \n",
              "9892          6543890.0                                51.34   \n",
              "\n",
              "      total_vaccinations_per_hundred  people_fully_vaccinated  \\\n",
              "9888                             NaN                      NaN   \n",
              "9889                             NaN                      NaN   \n",
              "9890                             NaN                      NaN   \n",
              "9891                          126.39                5439187.0   \n",
              "9892                          127.04                5451292.0   \n",
              "\n",
              "      people_vaccinated_per_hundred  distributed_per_hundred  \\\n",
              "9888                            NaN                      NaN   \n",
              "9889                            NaN                      NaN   \n",
              "9890                            NaN                      NaN   \n",
              "9891                          61.48                   172.08   \n",
              "9892                          61.63                   173.14   \n",
              "\n",
              "      daily_vaccinations_raw  daily_vaccinations  \\\n",
              "9888                     NaN             41583.0   \n",
              "9889                     NaN             44038.0   \n",
              "9890                     NaN             46493.0   \n",
              "9891                     NaN             26690.0   \n",
              "9892                 68647.0             27923.0   \n",
              "\n",
              "      daily_vaccinations_per_million  share_doses_used  total_boosters  \\\n",
              "9888                          3916.0               NaN             NaN   \n",
              "9889                          4148.0               NaN             NaN   \n",
              "9890                          4379.0               NaN             NaN   \n",
              "9891                          2514.0             0.734       1556737.0   \n",
              "9892                          2630.0             0.734       1592147.0   \n",
              "\n",
              "      total_boosters_per_hundred  \n",
              "9888                         NaN  \n",
              "9889                         NaN  \n",
              "9890                         NaN  \n",
              "9891                       14.66  \n",
              "9892                       15.00  "
            ],
            "text/html": [
              "\n",
              "  <div id=\"df-12ffa569-0487-4f35-a1a1-9523753d4e37\">\n",
              "    <div class=\"colab-df-container\">\n",
              "      <div>\n",
              "<style scoped>\n",
              "    .dataframe tbody tr th:only-of-type {\n",
              "        vertical-align: middle;\n",
              "    }\n",
              "\n",
              "    .dataframe tbody tr th {\n",
              "        vertical-align: top;\n",
              "    }\n",
              "\n",
              "    .dataframe thead th {\n",
              "        text-align: right;\n",
              "    }\n",
              "</style>\n",
              "<table border=\"1\" class=\"dataframe\">\n",
              "  <thead>\n",
              "    <tr style=\"text-align: right;\">\n",
              "      <th></th>\n",
              "      <th>date</th>\n",
              "      <th>location</th>\n",
              "      <th>total_vaccinations</th>\n",
              "      <th>total_distributed</th>\n",
              "      <th>people_vaccinated</th>\n",
              "      <th>people_fully_vaccinated_per_hundred</th>\n",
              "      <th>total_vaccinations_per_hundred</th>\n",
              "      <th>people_fully_vaccinated</th>\n",
              "      <th>people_vaccinated_per_hundred</th>\n",
              "      <th>distributed_per_hundred</th>\n",
              "      <th>daily_vaccinations_raw</th>\n",
              "      <th>daily_vaccinations</th>\n",
              "      <th>daily_vaccinations_per_million</th>\n",
              "      <th>share_doses_used</th>\n",
              "      <th>total_boosters</th>\n",
              "      <th>total_boosters_per_hundred</th>\n",
              "    </tr>\n",
              "  </thead>\n",
              "  <tbody>\n",
              "    <tr>\n",
              "      <th>9888</th>\n",
              "      <td>2022-01-01</td>\n",
              "      <td>Georgia</td>\n",
              "      <td>NaN</td>\n",
              "      <td>NaN</td>\n",
              "      <td>NaN</td>\n",
              "      <td>NaN</td>\n",
              "      <td>NaN</td>\n",
              "      <td>NaN</td>\n",
              "      <td>NaN</td>\n",
              "      <td>NaN</td>\n",
              "      <td>NaN</td>\n",
              "      <td>41583.0</td>\n",
              "      <td>3916.0</td>\n",
              "      <td>NaN</td>\n",
              "      <td>NaN</td>\n",
              "      <td>NaN</td>\n",
              "    </tr>\n",
              "    <tr>\n",
              "      <th>9889</th>\n",
              "      <td>2022-01-02</td>\n",
              "      <td>Georgia</td>\n",
              "      <td>NaN</td>\n",
              "      <td>NaN</td>\n",
              "      <td>NaN</td>\n",
              "      <td>NaN</td>\n",
              "      <td>NaN</td>\n",
              "      <td>NaN</td>\n",
              "      <td>NaN</td>\n",
              "      <td>NaN</td>\n",
              "      <td>NaN</td>\n",
              "      <td>44038.0</td>\n",
              "      <td>4148.0</td>\n",
              "      <td>NaN</td>\n",
              "      <td>NaN</td>\n",
              "      <td>NaN</td>\n",
              "    </tr>\n",
              "    <tr>\n",
              "      <th>9890</th>\n",
              "      <td>2022-01-03</td>\n",
              "      <td>Georgia</td>\n",
              "      <td>NaN</td>\n",
              "      <td>NaN</td>\n",
              "      <td>NaN</td>\n",
              "      <td>NaN</td>\n",
              "      <td>NaN</td>\n",
              "      <td>NaN</td>\n",
              "      <td>NaN</td>\n",
              "      <td>NaN</td>\n",
              "      <td>NaN</td>\n",
              "      <td>46493.0</td>\n",
              "      <td>4379.0</td>\n",
              "      <td>NaN</td>\n",
              "      <td>NaN</td>\n",
              "      <td>NaN</td>\n",
              "    </tr>\n",
              "    <tr>\n",
              "      <th>9891</th>\n",
              "      <td>2022-01-04</td>\n",
              "      <td>Georgia</td>\n",
              "      <td>13419260.0</td>\n",
              "      <td>18270005.0</td>\n",
              "      <td>6527303.0</td>\n",
              "      <td>51.23</td>\n",
              "      <td>126.39</td>\n",
              "      <td>5439187.0</td>\n",
              "      <td>61.48</td>\n",
              "      <td>172.08</td>\n",
              "      <td>NaN</td>\n",
              "      <td>26690.0</td>\n",
              "      <td>2514.0</td>\n",
              "      <td>0.734</td>\n",
              "      <td>1556737.0</td>\n",
              "      <td>14.66</td>\n",
              "    </tr>\n",
              "    <tr>\n",
              "      <th>9892</th>\n",
              "      <td>2022-01-05</td>\n",
              "      <td>Georgia</td>\n",
              "      <td>13487907.0</td>\n",
              "      <td>18382505.0</td>\n",
              "      <td>6543890.0</td>\n",
              "      <td>51.34</td>\n",
              "      <td>127.04</td>\n",
              "      <td>5451292.0</td>\n",
              "      <td>61.63</td>\n",
              "      <td>173.14</td>\n",
              "      <td>68647.0</td>\n",
              "      <td>27923.0</td>\n",
              "      <td>2630.0</td>\n",
              "      <td>0.734</td>\n",
              "      <td>1592147.0</td>\n",
              "      <td>15.00</td>\n",
              "    </tr>\n",
              "  </tbody>\n",
              "</table>\n",
              "</div>\n",
              "      <button class=\"colab-df-convert\" onclick=\"convertToInteractive('df-12ffa569-0487-4f35-a1a1-9523753d4e37')\"\n",
              "              title=\"Convert this dataframe to an interactive table.\"\n",
              "              style=\"display:none;\">\n",
              "        \n",
              "  <svg xmlns=\"http://www.w3.org/2000/svg\" height=\"24px\"viewBox=\"0 0 24 24\"\n",
              "       width=\"24px\">\n",
              "    <path d=\"M0 0h24v24H0V0z\" fill=\"none\"/>\n",
              "    <path d=\"M18.56 5.44l.94 2.06.94-2.06 2.06-.94-2.06-.94-.94-2.06-.94 2.06-2.06.94zm-11 1L8.5 8.5l.94-2.06 2.06-.94-2.06-.94L8.5 2.5l-.94 2.06-2.06.94zm10 10l.94 2.06.94-2.06 2.06-.94-2.06-.94-.94-2.06-.94 2.06-2.06.94z\"/><path d=\"M17.41 7.96l-1.37-1.37c-.4-.4-.92-.59-1.43-.59-.52 0-1.04.2-1.43.59L10.3 9.45l-7.72 7.72c-.78.78-.78 2.05 0 2.83L4 21.41c.39.39.9.59 1.41.59.51 0 1.02-.2 1.41-.59l7.78-7.78 2.81-2.81c.8-.78.8-2.07 0-2.86zM5.41 20L4 18.59l7.72-7.72 1.47 1.35L5.41 20z\"/>\n",
              "  </svg>\n",
              "      </button>\n",
              "      \n",
              "  <style>\n",
              "    .colab-df-container {\n",
              "      display:flex;\n",
              "      flex-wrap:wrap;\n",
              "      gap: 12px;\n",
              "    }\n",
              "\n",
              "    .colab-df-convert {\n",
              "      background-color: #E8F0FE;\n",
              "      border: none;\n",
              "      border-radius: 50%;\n",
              "      cursor: pointer;\n",
              "      display: none;\n",
              "      fill: #1967D2;\n",
              "      height: 32px;\n",
              "      padding: 0 0 0 0;\n",
              "      width: 32px;\n",
              "    }\n",
              "\n",
              "    .colab-df-convert:hover {\n",
              "      background-color: #E2EBFA;\n",
              "      box-shadow: 0px 1px 2px rgba(60, 64, 67, 0.3), 0px 1px 3px 1px rgba(60, 64, 67, 0.15);\n",
              "      fill: #174EA6;\n",
              "    }\n",
              "\n",
              "    [theme=dark] .colab-df-convert {\n",
              "      background-color: #3B4455;\n",
              "      fill: #D2E3FC;\n",
              "    }\n",
              "\n",
              "    [theme=dark] .colab-df-convert:hover {\n",
              "      background-color: #434B5C;\n",
              "      box-shadow: 0px 1px 3px 1px rgba(0, 0, 0, 0.15);\n",
              "      filter: drop-shadow(0px 1px 2px rgba(0, 0, 0, 0.3));\n",
              "      fill: #FFFFFF;\n",
              "    }\n",
              "  </style>\n",
              "\n",
              "      <script>\n",
              "        const buttonEl =\n",
              "          document.querySelector('#df-12ffa569-0487-4f35-a1a1-9523753d4e37 button.colab-df-convert');\n",
              "        buttonEl.style.display =\n",
              "          google.colab.kernel.accessAllowed ? 'block' : 'none';\n",
              "\n",
              "        async function convertToInteractive(key) {\n",
              "          const element = document.querySelector('#df-12ffa569-0487-4f35-a1a1-9523753d4e37');\n",
              "          const dataTable =\n",
              "            await google.colab.kernel.invokeFunction('convertToInteractive',\n",
              "                                                     [key], {});\n",
              "          if (!dataTable) return;\n",
              "\n",
              "          const docLinkHtml = 'Like what you see? Visit the ' +\n",
              "            '<a target=\"_blank\" href=https://colab.research.google.com/notebooks/data_table.ipynb>data table notebook</a>'\n",
              "            + ' to learn more about interactive tables.';\n",
              "          element.innerHTML = '';\n",
              "          dataTable['output_type'] = 'display_data';\n",
              "          await google.colab.output.renderOutput(dataTable, element);\n",
              "          const docLink = document.createElement('div');\n",
              "          docLink.innerHTML = docLinkHtml;\n",
              "          element.appendChild(docLink);\n",
              "        }\n",
              "      </script>\n",
              "    </div>\n",
              "  </div>\n",
              "  "
            ]
          },
          "metadata": {},
          "execution_count": 7
        }
      ]
    },
    {
      "cell_type": "code",
      "source": [
        "location = 'Georgia'\n",
        "mask = (df2['location'] == location)\n",
        "df2 = df2.loc[mask]"
      ],
      "metadata": {
        "id": "Ff7u3WZ4l_f5"
      },
      "execution_count": 6,
      "outputs": []
    },
    {
      "cell_type": "code",
      "source": [
        "dfn1 = pd.DataFrame()\n",
        "l=[]\n",
        "\n",
        "for count, column in enumerate(df2):    \n",
        "    # Select column contents by column\n",
        "    # name using [] operator\n",
        "    if(count==11):\n",
        "      columnSeriesObj = df2[column]\n",
        "      columnSeriesObj[np.isnan(columnSeriesObj)] = 0\n",
        "      dfn1.insert(count-11, column, columnSeriesObj.tolist(), True)\n",
        "      l.append(columnSeriesObj.tolist())\n",
        "      #print('Column Name : ', column)\n",
        "      #print('Column Contents : ', columnSeriesObj.values)"
      ],
      "metadata": {
        "id": "dDlYwKSjmFgJ"
      },
      "execution_count": 8,
      "outputs": []
    },
    {
      "cell_type": "code",
      "source": [
        "dfn1.head()"
      ],
      "metadata": {
        "colab": {
          "base_uri": "https://localhost:8080/",
          "height": 206
        },
        "id": "M33vuPhKnR0V",
        "outputId": "926ab224-c497-445f-893f-9ced1dc3c9d5"
      },
      "execution_count": 9,
      "outputs": [
        {
          "output_type": "execute_result",
          "data": {
            "text/plain": [
              "   daily_vaccinations\n",
              "0             41583.0\n",
              "1             44038.0\n",
              "2             46493.0\n",
              "3             26690.0\n",
              "4             27923.0"
            ],
            "text/html": [
              "\n",
              "  <div id=\"df-2b0a4af5-4df6-4960-ba3e-78864c0978ea\">\n",
              "    <div class=\"colab-df-container\">\n",
              "      <div>\n",
              "<style scoped>\n",
              "    .dataframe tbody tr th:only-of-type {\n",
              "        vertical-align: middle;\n",
              "    }\n",
              "\n",
              "    .dataframe tbody tr th {\n",
              "        vertical-align: top;\n",
              "    }\n",
              "\n",
              "    .dataframe thead th {\n",
              "        text-align: right;\n",
              "    }\n",
              "</style>\n",
              "<table border=\"1\" class=\"dataframe\">\n",
              "  <thead>\n",
              "    <tr style=\"text-align: right;\">\n",
              "      <th></th>\n",
              "      <th>daily_vaccinations</th>\n",
              "    </tr>\n",
              "  </thead>\n",
              "  <tbody>\n",
              "    <tr>\n",
              "      <th>0</th>\n",
              "      <td>41583.0</td>\n",
              "    </tr>\n",
              "    <tr>\n",
              "      <th>1</th>\n",
              "      <td>44038.0</td>\n",
              "    </tr>\n",
              "    <tr>\n",
              "      <th>2</th>\n",
              "      <td>46493.0</td>\n",
              "    </tr>\n",
              "    <tr>\n",
              "      <th>3</th>\n",
              "      <td>26690.0</td>\n",
              "    </tr>\n",
              "    <tr>\n",
              "      <th>4</th>\n",
              "      <td>27923.0</td>\n",
              "    </tr>\n",
              "  </tbody>\n",
              "</table>\n",
              "</div>\n",
              "      <button class=\"colab-df-convert\" onclick=\"convertToInteractive('df-2b0a4af5-4df6-4960-ba3e-78864c0978ea')\"\n",
              "              title=\"Convert this dataframe to an interactive table.\"\n",
              "              style=\"display:none;\">\n",
              "        \n",
              "  <svg xmlns=\"http://www.w3.org/2000/svg\" height=\"24px\"viewBox=\"0 0 24 24\"\n",
              "       width=\"24px\">\n",
              "    <path d=\"M0 0h24v24H0V0z\" fill=\"none\"/>\n",
              "    <path d=\"M18.56 5.44l.94 2.06.94-2.06 2.06-.94-2.06-.94-.94-2.06-.94 2.06-2.06.94zm-11 1L8.5 8.5l.94-2.06 2.06-.94-2.06-.94L8.5 2.5l-.94 2.06-2.06.94zm10 10l.94 2.06.94-2.06 2.06-.94-2.06-.94-.94-2.06-.94 2.06-2.06.94z\"/><path d=\"M17.41 7.96l-1.37-1.37c-.4-.4-.92-.59-1.43-.59-.52 0-1.04.2-1.43.59L10.3 9.45l-7.72 7.72c-.78.78-.78 2.05 0 2.83L4 21.41c.39.39.9.59 1.41.59.51 0 1.02-.2 1.41-.59l7.78-7.78 2.81-2.81c.8-.78.8-2.07 0-2.86zM5.41 20L4 18.59l7.72-7.72 1.47 1.35L5.41 20z\"/>\n",
              "  </svg>\n",
              "      </button>\n",
              "      \n",
              "  <style>\n",
              "    .colab-df-container {\n",
              "      display:flex;\n",
              "      flex-wrap:wrap;\n",
              "      gap: 12px;\n",
              "    }\n",
              "\n",
              "    .colab-df-convert {\n",
              "      background-color: #E8F0FE;\n",
              "      border: none;\n",
              "      border-radius: 50%;\n",
              "      cursor: pointer;\n",
              "      display: none;\n",
              "      fill: #1967D2;\n",
              "      height: 32px;\n",
              "      padding: 0 0 0 0;\n",
              "      width: 32px;\n",
              "    }\n",
              "\n",
              "    .colab-df-convert:hover {\n",
              "      background-color: #E2EBFA;\n",
              "      box-shadow: 0px 1px 2px rgba(60, 64, 67, 0.3), 0px 1px 3px 1px rgba(60, 64, 67, 0.15);\n",
              "      fill: #174EA6;\n",
              "    }\n",
              "\n",
              "    [theme=dark] .colab-df-convert {\n",
              "      background-color: #3B4455;\n",
              "      fill: #D2E3FC;\n",
              "    }\n",
              "\n",
              "    [theme=dark] .colab-df-convert:hover {\n",
              "      background-color: #434B5C;\n",
              "      box-shadow: 0px 1px 3px 1px rgba(0, 0, 0, 0.15);\n",
              "      filter: drop-shadow(0px 1px 2px rgba(0, 0, 0, 0.3));\n",
              "      fill: #FFFFFF;\n",
              "    }\n",
              "  </style>\n",
              "\n",
              "      <script>\n",
              "        const buttonEl =\n",
              "          document.querySelector('#df-2b0a4af5-4df6-4960-ba3e-78864c0978ea button.colab-df-convert');\n",
              "        buttonEl.style.display =\n",
              "          google.colab.kernel.accessAllowed ? 'block' : 'none';\n",
              "\n",
              "        async function convertToInteractive(key) {\n",
              "          const element = document.querySelector('#df-2b0a4af5-4df6-4960-ba3e-78864c0978ea');\n",
              "          const dataTable =\n",
              "            await google.colab.kernel.invokeFunction('convertToInteractive',\n",
              "                                                     [key], {});\n",
              "          if (!dataTable) return;\n",
              "\n",
              "          const docLinkHtml = 'Like what you see? Visit the ' +\n",
              "            '<a target=\"_blank\" href=https://colab.research.google.com/notebooks/data_table.ipynb>data table notebook</a>'\n",
              "            + ' to learn more about interactive tables.';\n",
              "          element.innerHTML = '';\n",
              "          dataTable['output_type'] = 'display_data';\n",
              "          await google.colab.output.renderOutput(dataTable, element);\n",
              "          const docLink = document.createElement('div');\n",
              "          docLink.innerHTML = docLinkHtml;\n",
              "          element.appendChild(docLink);\n",
              "        }\n",
              "      </script>\n",
              "    </div>\n",
              "  </div>\n",
              "  "
            ]
          },
          "metadata": {},
          "execution_count": 9
        }
      ]
    },
    {
      "cell_type": "code",
      "source": [
        "X1 = dfn1.values # getting all values as a matrix of dataframe \n",
        "sc = StandardScaler() # creating a StandardScaler object\n",
        "X_std1 = sc.fit_transform(X1) # standardizing the data"
      ],
      "metadata": {
        "id": "JqT7CuRpmLhK"
      },
      "execution_count": 10,
      "outputs": []
    },
    {
      "cell_type": "code",
      "source": [],
      "metadata": {
        "id": "iwh2kk6GmNSU"
      },
      "execution_count": null,
      "outputs": []
    },
    {
      "cell_type": "markdown",
      "source": [
        "**Symptoms**"
      ],
      "metadata": {
        "id": "PSLWBaismN2F"
      }
    },
    {
      "cell_type": "code",
      "source": [
        "dfu = pd.read_csv('/content/2022_sub_region_1_daily_2022_US_Georgia_daily_symptoms_dataset.csv', index_col = 0)\n",
        "dfu['date'] = pd.to_datetime(dfu['date'])\n",
        "\n",
        "df_first = dfu.head(n=274)"
      ],
      "metadata": {
        "id": "eivKZC9FmNjg"
      },
      "execution_count": 11,
      "outputs": []
    },
    {
      "cell_type": "code",
      "source": [
        "dfn = pd.DataFrame()\n",
        "l=[]\n",
        "\n",
        "for count, column in enumerate(df_first):    \n",
        "    # Select column contents by column\n",
        "    # name using [] operator\n",
        "    if(count>8):\n",
        "      columnSeriesObj = df_first[column]\n",
        "      columnSeriesObj[np.isnan(columnSeriesObj)] = 0\n",
        "      dfn.insert(count-9, column, columnSeriesObj.tolist(), True)\n",
        "      l.append(columnSeriesObj.tolist())\n",
        "      #print('Column Name : ', column)\n",
        "      #print('Column Contents : ', columnSeriesObj.values)"
      ],
      "metadata": {
        "colab": {
          "base_uri": "https://localhost:8080/"
        },
        "id": "pQ4BprBXmQvZ",
        "outputId": "9c97b043-42a4-4265-a20a-b87ed06f4486"
      },
      "execution_count": 12,
      "outputs": [
        {
          "output_type": "stream",
          "name": "stderr",
          "text": [
            "/usr/local/lib/python3.7/dist-packages/ipykernel_launcher.py:9: SettingWithCopyWarning: \n",
            "A value is trying to be set on a copy of a slice from a DataFrame\n",
            "\n",
            "See the caveats in the documentation: https://pandas.pydata.org/pandas-docs/stable/user_guide/indexing.html#returning-a-view-versus-a-copy\n",
            "  if __name__ == '__main__':\n",
            "/usr/local/lib/python3.7/dist-packages/pandas/core/generic.py:8870: SettingWithCopyWarning: \n",
            "A value is trying to be set on a copy of a slice from a DataFrame\n",
            "\n",
            "See the caveats in the documentation: https://pandas.pydata.org/pandas-docs/stable/user_guide/indexing.html#returning-a-view-versus-a-copy\n",
            "  return self._update_inplace(result)\n",
            "/usr/local/lib/python3.7/dist-packages/IPython/core/interactiveshell.py:3249: PerformanceWarning: DataFrame is highly fragmented.  This is usually the result of calling `frame.insert` many times, which has poor performance.  Consider joining all columns at once using pd.concat(axis=1) instead.  To get a de-fragmented frame, use `newframe = frame.copy()`\n",
            "  if (await self.run_code(code, result,  async_=asy)):\n"
          ]
        }
      ]
    },
    {
      "cell_type": "code",
      "source": [
        "X = dfn.values # getting all values as a matrix of dataframe \n",
        "sc = StandardScaler() # creating a StandardScaler object\n",
        "X_std = sc.fit_transform(X) # standardizing the data"
      ],
      "metadata": {
        "id": "zUAMDEgcmSdC"
      },
      "execution_count": 13,
      "outputs": []
    },
    {
      "cell_type": "code",
      "source": [],
      "metadata": {
        "id": "7brLMj5wmT9J"
      },
      "execution_count": null,
      "outputs": []
    },
    {
      "cell_type": "code",
      "source": [
        "rng: np.random.RandomState = np.random.RandomState(0)\n",
        "rng.randn(4,1) "
      ],
      "metadata": {
        "colab": {
          "base_uri": "https://localhost:8080/"
        },
        "id": "g1gPrdRDmUY_",
        "outputId": "41770b58-7f2f-4205-d647-057932315bd3"
      },
      "execution_count": 14,
      "outputs": [
        {
          "output_type": "execute_result",
          "data": {
            "text/plain": [
              "array([[1.76405235],\n",
              "       [0.40015721],\n",
              "       [0.97873798],\n",
              "       [2.2408932 ]])"
            ]
          },
          "metadata": {},
          "execution_count": 14
        }
      ]
    },
    {
      "cell_type": "code",
      "source": [
        "import numpy as np\n",
        "    \n",
        "class Bit_map:\n",
        "\n",
        "    def __init__(self, reduced_size, inp_size, rng: np.random.RandomState = np.random.RandomState(0)):\n",
        "        self.reduced_size = reduced_size\n",
        "        self.inp_size = inp_size\n",
        "\n",
        "        # take random normal vectors for projection\n",
        "\n",
        "        self.normals = rng.randn(self.reduced_size, inp_size) \n",
        "        \n",
        "    def generate(self, inp_vector):\n",
        "\n",
        "        # self.normals.T = create delta normal vectors\n",
        "        # Take dot product of input vector with each of these normal vectors.\n",
        "        # If vector and normal on same side, then Binary = 1 else 0\n",
        "\n",
        "        binary = (np.dot(inp_vector, self.normals.T) > 0).astype('int')\n",
        "        return binary #''.join(bools.astype('str'))\n",
        "       \n",
        "ht = Bit_map(reduced_size=40, inp_size=274)"
      ],
      "metadata": {
        "id": "63MBuSsZmV0X"
      },
      "execution_count": 38,
      "outputs": []
    },
    {
      "cell_type": "code",
      "source": [
        "sp2 = ht.generate(X_std1[:,0])\n",
        "sp2 # CDC Covid data"
      ],
      "metadata": {
        "colab": {
          "base_uri": "https://localhost:8080/"
        },
        "id": "cL9khVT-mXPq",
        "outputId": "980a3ed4-c427-496b-83d2-17ff8978c9ac"
      },
      "execution_count": 39,
      "outputs": [
        {
          "output_type": "execute_result",
          "data": {
            "text/plain": [
              "array([1, 1, 1, 0, 1, 1, 1, 1, 0, 0, 1, 1, 0, 1, 1, 0, 0, 0, 1, 0, 0, 1,\n",
              "       1, 0, 1, 1, 0, 1, 0, 1, 1, 1, 0, 1, 0, 1, 0, 1, 1, 1])"
            ]
          },
          "metadata": {},
          "execution_count": 39
        }
      ]
    },
    {
      "cell_type": "code",
      "source": [
        "score = []\n",
        "h_l =[]\n",
        "\n",
        "for i in range(420):\n",
        "  h_p=[]\n",
        "  h_p.append(ht.generate(X_std[:,i]))\n",
        "  h_l.append(h_p)\n",
        "  \n",
        "for i in range(420):\n",
        "    sp1 = h_l[i] # Symptom data\n",
        "    a =[i for i, j in zip(sp1[0], sp2) if i == j];\n",
        "    score.append(len(a)) # How many bits are matching!"
      ],
      "metadata": {
        "id": "JW1nER3SmYkj"
      },
      "execution_count": 40,
      "outputs": []
    },
    {
      "cell_type": "code",
      "source": [
        "top_k = sorted(range(len(score)), key=lambda i: score[i], reverse=True)[:15]\n",
        "top_k"
      ],
      "metadata": {
        "colab": {
          "base_uri": "https://localhost:8080/"
        },
        "id": "DGUA8Wmhmavy",
        "outputId": "74f38a35-3e99-4ac4-8824-8ca83e308bee"
      },
      "execution_count": 41,
      "outputs": [
        {
          "output_type": "execute_result",
          "data": {
            "text/plain": [
              "[148, 307, 73, 57, 82, 90, 238, 263, 2, 4, 17, 174, 209, 301, 350]"
            ]
          },
          "metadata": {},
          "execution_count": 41
        }
      ]
    },
    {
      "cell_type": "code",
      "source": [
        "for i,c in enumerate(top_k): #for ele in enumerate(l1):\n",
        "  print(i,dfn.columns[c],score[c])"
      ],
      "metadata": {
        "colab": {
          "base_uri": "https://localhost:8080/"
        },
        "id": "_t3SVcZNmcDF",
        "outputId": "8711d8d8-7b89-4f25-bca2-c54321e968a3"
      },
      "execution_count": 42,
      "outputs": [
        {
          "output_type": "stream",
          "name": "stdout",
          "text": [
            "0 symptom:Food intolerance 36\n",
            "1 symptom:Pneumonia 35\n",
            "2 symptom:Chills 34\n",
            "3 symptom:Bronchitis 33\n",
            "4 symptom:Common cold 33\n",
            "5 symptom:Cough 33\n",
            "6 symptom:Low-grade fever 33\n",
            "7 symptom:Nasal congestion 33\n",
            "8 symptom:Acute bronchitis 32\n",
            "9 symptom:Ageusia 32\n",
            "10 symptom:Anosmia 32\n",
            "11 symptom:Hemoptysis 32\n",
            "12 symptom:Hypoxemia 32\n",
            "13 symptom:Phlegm 32\n",
            "14 symptom:Sinusitis 32\n"
          ]
        }
      ]
    },
    {
      "cell_type": "code",
      "source": [],
      "metadata": {
        "id": "umnd-aZTnZDe"
      },
      "execution_count": null,
      "outputs": []
    },
    {
      "cell_type": "markdown",
      "source": [
        "**Study the lead time:**"
      ],
      "metadata": {
        "id": "B-k2E-Enoa52"
      }
    },
    {
      "cell_type": "code",
      "source": [
        "%matplotlib inline\n",
        "\n",
        "import pandas as pd # for using pandas daraframe\n",
        "import numpy as np # for som math operations\n",
        "from sklearn.preprocessing import StandardScaler # for standardizing the Data\n",
        "\n",
        "import matplotlib.pyplot as plt # for plotting\n",
        "from scipy import stats"
      ],
      "metadata": {
        "id": "2M7ev8hwrACv"
      },
      "execution_count": 43,
      "outputs": []
    },
    {
      "cell_type": "code",
      "source": [
        "corr_t =[]\n",
        "valuesi = []\n",
        "sim = [148, 307, 73, 57, 82, 90, 238, 263, 2, 4, 17, 174, 209, 301, 350] # Coluns from top correlated data.\n",
        "zp = []\n",
        "\n",
        "\n",
        "for j in sim:\n",
        "\n",
        "  a = X_std1[:,0]\n",
        "  b = X_std[:,j]\n",
        "\n",
        "  colin = [] \n",
        "  z = 274\n",
        "  for t in range(z): # vary t' from 1 to 34\n",
        "\n",
        "    if(t>1) and (t<z+1):\n",
        "      symp_a = b[:(z+1-(t))]\n",
        "      ili_a  = a[t-1:z+1]\n",
        "      res = stats.pearsonr(ili_a, np.nan_to_num(symp_a))\n",
        "      colin.append(res) # Append all possible correlation for varying t\n",
        "    \n",
        "  arr1 = np.array(colin)\n",
        "  zil = arr1.argmax(axis=0)\n",
        "  zp.append(zil[0])\n",
        "  \n",
        "  corr_t.append(colin)\n",
        "  "
      ],
      "metadata": {
        "id": "_A0sEo4vodkJ"
      },
      "execution_count": 44,
      "outputs": []
    },
    {
      "cell_type": "code",
      "source": [
        "corr_t"
      ],
      "metadata": {
        "id": "ReZMaC-_rtUD"
      },
      "execution_count": null,
      "outputs": []
    },
    {
      "cell_type": "code",
      "source": [
        "for count,k in enumerate(zp):\n",
        "  print(count,k)"
      ],
      "metadata": {
        "colab": {
          "base_uri": "https://localhost:8080/"
        },
        "id": "mwT8obtYq2_c",
        "outputId": "623fc1bb-0ad6-4440-a4af-5a3da980f6ab"
      },
      "execution_count": 45,
      "outputs": [
        {
          "output_type": "stream",
          "name": "stdout",
          "text": [
            "0 269\n",
            "1 269\n",
            "2 269\n",
            "3 269\n",
            "4 269\n",
            "5 269\n",
            "6 269\n",
            "7 269\n",
            "8 269\n",
            "9 269\n",
            "10 269\n",
            "11 269\n",
            "12 269\n",
            "13 269\n",
            "14 269\n"
          ]
        }
      ]
    },
    {
      "cell_type": "code",
      "source": [],
      "metadata": {
        "id": "kKeCTIANrBnV"
      },
      "execution_count": null,
      "outputs": []
    }
  ]
}